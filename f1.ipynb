{
 "cells": [
  {
   "cell_type": "code",
   "execution_count": 2,
   "metadata": {},
   "outputs": [],
   "source": [
    "import os\n",
    "import os.path as op\n",
    "import nibabel as nib\n",
    "import numpy as np\n",
    "import csv\n",
    "from sklearn.metrics import f1_score, jaccard_score, precision_recall_fscore_support\n",
    "from sklearn.utils import resample\n",
    "from nilearn import maskers\n",
    "import pandas as pd\n",
    "import seaborn as sns\n",
    "import matplotlib.pyplot as plt"
   ]
  },
  {
   "cell_type": "code",
   "execution_count": 3,
   "metadata": {},
   "outputs": [],
   "source": [
    "deriv_dir = \"./derivatives\"\n",
    "aub_dir = \"./data/aub\"\n",
    "hcp_dir = \"./data/hcp-resampled\"\n",
    "roi_dir = op.join(deriv_dir, \"avg-masks\")\n",
    "stat_dir = op.join(deriv_dir, \"stats\")\n",
    "\n",
    "\n",
    "if not op.exists(stat_dir):\n",
    "    os.makedirs(stat_dir)"
   ]
  },
  {
   "cell_type": "markdown",
   "metadata": {},
   "source": [
    "## Data\n",
    "let's load the data in a way that we can calculate scores"
   ]
  },
  {
   "cell_type": "code",
   "execution_count": 57,
   "metadata": {},
   "outputs": [],
   "source": [
    "aub = op.join(roi_dir, \"aub_hb_avg.nii.gz\")\n",
    "hcp = op.join(roi_dir, \"hcp_hb_avg_resample.nii.gz\")\n",
    "\n",
    "aub_nii_image = nib.load(aub)\n",
    "aub_nii_data = aub_nii_image.get_fdata()\n",
    "# make binary\n",
    "aub_nii_data = np.where(aub_nii_data > 0, 1, 0)\n",
    "\n",
    "hcp_nii_image = nib.load(hcp)\n",
    "hcp_nii_data = hcp_nii_image.get_fdata()\n",
    "hcp_nii_data = np.where(hcp_nii_data > 0, 1, 0)\n",
    "\n",
    "\n",
    "# Ensure both arrays have the same shape\n",
    "if hcp_nii_data.shape == aub_nii_data.shape:\n",
    "    # Flatten the arrays for F1 score calculation\n",
    "    hcp_flat = hcp_nii_data.flatten()\n",
    "    aub_flat = aub_nii_data.flatten()"
   ]
  },
  {
   "cell_type": "code",
   "execution_count": 39,
   "metadata": {},
   "outputs": [],
   "source": [
    "dil_aub = op.join(roi_dir, \"aub_dil-hb_avg.nii.gz\")\n",
    "dil_hcp = op.join(roi_dir, \"hcp_dil-hb_avg_resample.nii.gz\")\n",
    "\n",
    "aub_nii_image = nib.load(dil_aub)\n",
    "aub_nii_data = aub_nii_image.get_fdata()\n",
    "# make binary\n",
    "aub_nii_data = np.where(aub_nii_data > 0, 1, 0)\n",
    "\n",
    "hcp_nii_image = nib.load(dil_hcp)\n",
    "hcp_nii_data = hcp_nii_image.get_fdata()\n",
    "hcp_nii_data = np.where(hcp_nii_data > 0, 1, 0)\n",
    "\n",
    "\n",
    "# Ensure both arrays have the same shape\n",
    "if hcp_nii_data.shape == aub_nii_data.shape:\n",
    "    # Flatten the arrays for F1 score calculation\n",
    "    dil_hcp_flat = hcp_nii_data.flatten()\n",
    "    dil_aub_flat = aub_nii_data.flatten()"
   ]
  },
  {
   "cell_type": "markdown",
   "metadata": {},
   "source": [
    "## Weights"
   ]
  },
  {
   "cell_type": "code",
   "execution_count": 12,
   "metadata": {},
   "outputs": [
    {
     "name": "stdout",
     "output_type": "stream",
     "text": [
      "[5.00079226e-01 3.15604545e+03] [5.00108595e-01 2.30262500e+03]\n"
     ]
    }
   ],
   "source": [
    "from sklearn.utils.class_weight import compute_class_weight\n",
    "\n",
    "hpc_weight = compute_class_weight(class_weight=\"balanced\", classes=np.unique(hcp_flat), y=hcp_flat)\n",
    "aub_weight = compute_class_weight(class_weight=\"balanced\", classes=np.unique(aub_flat), y=aub_flat)\n",
    "print(hpc_weight, aub_weight)"
   ]
  },
  {
   "cell_type": "markdown",
   "metadata": {},
   "source": [
    "## F1 Scores"
   ]
  },
  {
   "cell_type": "code",
   "execution_count": 58,
   "metadata": {},
   "outputs": [
    {
     "name": "stdout",
     "output_type": "stream",
     "text": [
      "binary F1 Score between hcp and aub: 0.471976401179941\n",
      "macro F1 Score between hcp and aub: 0.735938613877215\n",
      "weighted F1 Score between hcp and aub: 0.9998171895621268\n"
     ]
    },
    {
     "data": {
      "text/plain": [
       "array([0.99990083, 0.4719764 ])"
      ]
     },
     "execution_count": 58,
     "metadata": {},
     "output_type": "execute_result"
    }
   ],
   "source": [
    "averages = [\"binary\", \"macro\", \"weighted\"]\n",
    "\n",
    "for average in averages:\n",
    "    f1 = f1_score(hcp_flat, aub_flat, average = average)\n",
    "    print(f\"{average} F1 Score between hcp and aub:\", f1)\n",
    "\n",
    "\n",
    "f1_score(hcp_flat, aub_flat, average=None)"
   ]
  },
  {
   "cell_type": "code",
   "execution_count": 59,
   "metadata": {},
   "outputs": [
    {
     "name": "stdout",
     "output_type": "stream",
     "text": [
      "binary F1 Score between dilated hcp and aub: 0.5762237762237762\n",
      "macro F1 Score between dilated hcp and aub: 0.7880279333377431\n",
      "weighted F1 Score between dilated hcp and aub: 0.999677689102561\n"
     ]
    }
   ],
   "source": [
    "for average in averages:\n",
    "    f1 = f1_score(dil_hcp_flat, dil_aub_flat, average=average)\n",
    "    print(f\"{average} F1 Score between dilated hcp and aub:\", f1)"
   ]
  },
  {
   "cell_type": "code",
   "execution_count": 62,
   "metadata": {},
   "outputs": [
    {
     "name": "stdout",
     "output_type": "stream",
     "text": [
      "F1 Score: 0.2441860465116279\n",
      "F1 Score: 0.08\n",
      "F1 Score: 0.3389830508474576\n",
      "F1 Score: 0.07228915662650602\n",
      "F1 Score: 0.10714285714285714\n",
      "F1 Score: 0.10126582278481013\n",
      "F1 Score: 0.0\n",
      "F1 Score: 0.0\n",
      "F1 Score: 0.3076923076923077\n",
      "File not found in for HIP010\n",
      "F1 Score: 0.2331288343558282\n",
      "File not found in for HIP012\n",
      "F1 Score: 0.2958579881656805\n",
      "F1 Score: 0.3352601156069364\n",
      "F1 Score: 0.23030303030303031\n",
      "F1 Score: 0.3176470588235294\n",
      "F1 Score: 0.08695652173913043\n",
      "F1 Score: 0.30057803468208094\n",
      "File not found in for HIP019\n",
      "File not found in for HIP020\n",
      "F1 Score: 0.29411764705882354\n",
      "F1 Score: 0.2235294117647059\n",
      "F1 Score: 0.2\n",
      "F1 Score: 0.27380952380952384\n",
      "F1 Score: 0.32748538011695905\n",
      "File not found in for HIP026\n",
      "F1 Score: 0.1893491124260355\n",
      "File not found in for HIP028\n",
      "File not found in for HIP029\n",
      "F1 Score: 0.0625\n",
      "F1 Score: 0.0\n",
      "File not found in for HIP032\n",
      "F1 Score: 0.2236024844720497\n",
      "F1 Score: 0.1951219512195122\n",
      "F1 Score: 0.6220570138911632\n",
      "F1 Score: 0.5399554037127379\n",
      "F1 Score: 0.6694591169057731\n",
      "F1 Score: 0.5361019212076872\n",
      "F1 Score: 0.5535298793965951\n",
      "F1 Score: 0.5505935783914633\n",
      "F1 Score: 0.49995568107659527\n",
      "F1 Score: 0.4999551270403347\n",
      "F1 Score: 0.6538037724434458\n",
      "File not found in for HIP010\n",
      "F1 Score: 0.6165297929614602\n",
      "File not found in for HIP012\n",
      "F1 Score: 0.6478960317192116\n",
      "F1 Score: 0.6675982033478609\n",
      "F1 Score: 0.6151163369086213\n",
      "F1 Score: 0.6587913980142927\n",
      "F1 Score: 0.5434375428361299\n",
      "F1 Score: 0.6502555009138362\n",
      "File not found in for HIP019\n",
      "File not found in for HIP020\n",
      "F1 Score: 0.6470255841527166\n",
      "F1 Score: 0.6117281425679882\n",
      "F1 Score: 0.5999645448612763\n",
      "F1 Score: 0.6368709685758974\n",
      "F1 Score: 0.6637108356381662\n",
      "File not found in for HIP026\n",
      "F1 Score: 0.594636607945647\n",
      "File not found in for HIP028\n",
      "File not found in for HIP029\n",
      "F1 Score: 0.531208451009308\n",
      "F1 Score: 0.49995346492418663\n",
      "File not found in for HIP032\n",
      "F1 Score: 0.6117666180579336\n",
      "F1 Score: 0.5975244124169251\n",
      "F1 Score: 0.9998082520168515\n",
      "F1 Score: 0.9997650695359754\n",
      "F1 Score: 0.9998304708898114\n",
      "F1 Score: 0.999767725686024\n",
      "F1 Score: 0.9997754629325826\n",
      "F1 Score: 0.9997789635024826\n",
      "F1 Score: 0.999752950087117\n",
      "F1 Score: 0.9997518421901433\n",
      "F1 Score: 0.9998055710095634\n",
      "File not found in for HIP010\n",
      "F1 Score: 0.9998092701232637\n",
      "File not found in for HIP012\n",
      "F1 Score: 0.9998225312380882\n",
      "F1 Score: 0.9998309890288095\n",
      "F1 Score: 0.9998077145647889\n",
      "F1 Score: 0.9998276448647827\n",
      "F1 Score: 0.9997739269094643\n",
      "F1 Score: 0.9998221710650952\n",
      "File not found in for HIP019\n",
      "File not found in for HIP020\n",
      "F1 Score: 0.999821701584258\n",
      "F1 Score: 0.9998038717426836\n",
      "F1 Score: 0.9998023600696936\n",
      "F1 Score: 0.9998173765185004\n",
      "F1 Score: 0.9998297573782972\n",
      "File not found in for HIP026\n",
      "F1 Score: 0.9997956872236813\n",
      "File not found in for HIP028\n",
      "File not found in for HIP029\n",
      "F1 Score: 0.9997683907066722\n",
      "F1 Score: 0.9997485184844925\n",
      "File not found in for HIP032\n",
      "F1 Score: 0.9998077609774356\n",
      "F1 Score: 0.9997993715022827\n"
     ]
    }
   ],
   "source": [
    "# each aub particpant\n",
    "results = []\n",
    "\n",
    "for average in averages:\n",
    "    for i in range(1, 35):\n",
    "        subject = f\"HIP{i:03}\"\n",
    "        file_to_check = op.join(aub_dir, f\"{subject}_hbmask.nii.gz\")\n",
    "\n",
    "        if op.isfile(file_to_check):\n",
    "            aub_nii_image = nib.load(file_to_check)\n",
    "            aub_nii_data = aub_nii_image.get_fdata()\n",
    "\n",
    "            # Ensure both arrays have the same shape\n",
    "            if hcp_nii_data.shape == aub_nii_data.shape:\n",
    "                aub_flat = aub_nii_data.flatten()\n",
    "\n",
    "                # Calculate the F1 score\n",
    "                f1 = f1_score(hcp_flat, aub_flat, average= average)\n",
    "                print(f\"F1 Score: {f1}\")\n",
    "\n",
    "                # Store the results in a list\n",
    "                results.append(\n",
    "                    {\"Subject\": subject, \"Average Type\": average, \"F1 Score\": f1}\n",
    "                )\n",
    "\n",
    "            else:\n",
    "                print(\n",
    "                    f\"{subject} hape mismatch: HCP shape {hcp_nii_data.shape}, AUB shape {aub_nii_data.shape}\"\n",
    "                )\n",
    "\n",
    "        else:\n",
    "            print(f\"File not found in for {subject}\")\n",
    "\n",
    "f1_df = pd.DataFrame(results)"
   ]
  },
  {
   "cell_type": "code",
   "execution_count": 47,
   "metadata": {},
   "outputs": [
    {
     "name": "stdout",
     "output_type": "stream",
     "text": [
      "F1 Score: 0.15083798882681565\n",
      "F1 Score: 0.10526315789473684\n",
      "F1 Score: 0.18732782369146006\n",
      "F1 Score: 0.09659090909090909\n",
      "F1 Score: 0.12994350282485875\n",
      "F1 Score: 0.08139534883720931\n",
      "F1 Score: 0.023121387283236993\n",
      "F1 Score: 0.022988505747126436\n",
      "F1 Score: 0.3046683046683047\n",
      "File not found in for HIP010\n",
      "F1 Score: 0.11461318051575932\n",
      "File not found in for HIP012\n",
      "F1 Score: 0.14647887323943662\n",
      "F1 Score: 0.1671309192200557\n",
      "F1 Score: 0.12535612535612536\n",
      "F1 Score: 0.15168539325842698\n",
      "F1 Score: 0.07492795389048991\n",
      "F1 Score: 0.1671309192200557\n",
      "File not found in for HIP019\n",
      "File not found in for HIP020\n",
      "F1 Score: 0.15168539325842698\n",
      "F1 Score: 0.14606741573033707\n",
      "F1 Score: 0.09826589595375723\n",
      "F1 Score: 0.14124293785310735\n",
      "F1 Score: 0.1568627450980392\n",
      "File not found in for HIP026\n",
      "F1 Score: 0.1352112676056338\n",
      "File not found in for HIP028\n",
      "File not found in for HIP029\n",
      "F1 Score: 0.08092485549132948\n",
      "F1 Score: 0.04519774011299435\n",
      "File not found in for HIP032\n",
      "F1 Score: 0.1037463976945245\n",
      "F1 Score: 0.12\n",
      "F1 Score: 0.5753347792214305\n",
      "F1 Score: 0.552542100157166\n",
      "F1 Score: 0.5935821896402832\n",
      "F1 Score: 0.5482073613151146\n",
      "F1 Score: 0.5648864283149129\n",
      "F1 Score: 0.5406101356217423\n",
      "F1 Score: 0.5114670602678031\n",
      "F1 Score: 0.5114000653517478\n",
      "F1 Score: 0.6522557525105658\n",
      "File not found in for HIP010\n",
      "F1 Score: 0.5572209903744506\n",
      "File not found in for HIP012\n",
      "F1 Score: 0.5731554985909156\n",
      "F1 Score: 0.5834826294904477\n",
      "F1 Score: 0.5625930167449481\n",
      "F1 Score: 0.575759035577256\n",
      "F1 Score: 0.5373750528930341\n",
      "F1 Score: 0.5834826294904477\n",
      "File not found in for HIP019\n",
      "File not found in for HIP020\n",
      "F1 Score: 0.575759035577256\n",
      "F1 Score: 0.5729494927665094\n",
      "F1 Score: 0.5490465171702797\n",
      "F1 Score: 0.5705372539212127\n",
      "F1 Score: 0.5783479884742144\n",
      "File not found in for HIP026\n",
      "F1 Score: 0.5675205876812248\n",
      "File not found in for HIP028\n",
      "File not found in for HIP029\n",
      "F1 Score: 0.5403743348081698\n",
      "F1 Score: 0.5225052362676641\n",
      "File not found in for HIP032\n",
      "F1 Score: 0.5517870450147464\n",
      "F1 Score: 0.5599146770915748\n",
      "F1 Score: 0.9995221192349034\n",
      "F1 Score: 0.9994949842672328\n",
      "F1 Score: 0.9995404036010865\n",
      "F1 Score: 0.999494593421682\n",
      "F1 Score: 0.9995122883827697\n",
      "F1 Score: 0.9994901632419849\n",
      "F1 Score: 0.999456738205873\n",
      "F1 Score: 0.9994555818797342\n",
      "F1 Score: 0.9995898154730145\n",
      "File not found in for HIP010\n",
      "F1 Score: 0.9995061472507017\n",
      "File not found in for HIP012\n",
      "F1 Score: 0.9995210845015157\n",
      "F1 Score: 0.999530826993847\n",
      "F1 Score: 0.9995111704524713\n",
      "F1 Score: 0.9995235359821363\n",
      "F1 Score: 0.9994850364349142\n",
      "F1 Score: 0.999530826993847\n",
      "File not found in for HIP019\n",
      "File not found in for HIP020\n",
      "F1 Score: 0.9995235359821363\n",
      "F1 Score: 0.9995203805912896\n",
      "F1 Score: 0.999498527574652\n",
      "F1 Score: 0.9995186222998765\n",
      "F1 Score: 0.9995259768318364\n",
      "File not found in for HIP026\n",
      "F1 Score: 0.9995147621847039\n",
      "File not found in for HIP028\n",
      "File not found in for HIP029\n",
      "F1 Score: 0.9994888838741645\n",
      "F1 Score: 0.999464784004468\n",
      "File not found in for HIP032\n",
      "F1 Score: 0.9995010789135773\n",
      "F1 Score: 0.999508664445144\n"
     ]
    }
   ],
   "source": [
    "# each aub particpant\n",
    "results = []\n",
    "\n",
    "for average in averages:\n",
    "    for i in range(1, 35):\n",
    "        subject = f\"HIP{i:03}\"\n",
    "        file_to_check = op.join(aub_dir, f\"{subject}_hbmask.nii.gz\")\n",
    "\n",
    "        if op.isfile(file_to_check):\n",
    "            aub_nii_image = nib.load(file_to_check)\n",
    "            aub_nii_data = aub_nii_image.get_fdata()\n",
    "\n",
    "            # Ensure both arrays have the same shape\n",
    "            if hcp_nii_data.shape == aub_nii_data.shape:\n",
    "                aub_flat = aub_nii_data.flatten()\n",
    "\n",
    "                # Calculate the F1 score\n",
    "                f1 = f1_score(dil_hcp_flat, aub_flat, average=average)\n",
    "                print(f\"F1 Score: {f1}\")\n",
    "\n",
    "                # Store the results in a list\n",
    "                results.append(\n",
    "                    {\"Subject\": subject, \"Average Type\": average, \"F1 Score\": f1}\n",
    "                )\n",
    "\n",
    "            else:\n",
    "                print(\n",
    "                    f\"{subject} hape mismatch: HCP shape {hcp_nii_data.shape}, AUB shape {aub_nii_data.shape}\"\n",
    "                )\n",
    "\n",
    "        else:\n",
    "            print(f\"File not found in for {subject}\")\n",
    "\n",
    "f1_dildf = pd.DataFrame(results)"
   ]
  },
  {
   "cell_type": "code",
   "execution_count": 41,
   "metadata": {},
   "outputs": [
    {
     "name": "stdout",
     "output_type": "stream",
     "text": [
      "    subject average_type_x  f1_score_x average_type_y  f1_score_y\n",
      "0    HIP001         binary    0.244186         binary    0.150838\n",
      "1    HIP001         binary    0.244186          macro    0.575335\n",
      "2    HIP001         binary    0.244186       weighted    0.999522\n",
      "3    HIP001          macro    0.622057         binary    0.150838\n",
      "4    HIP001          macro    0.622057          macro    0.575335\n",
      "..      ...            ...         ...            ...         ...\n",
      "229  HIP034          macro    0.597524          macro    0.559915\n",
      "230  HIP034          macro    0.597524       weighted    0.999509\n",
      "231  HIP034       weighted    0.999799         binary    0.120000\n",
      "232  HIP034       weighted    0.999799          macro    0.559915\n",
      "233  HIP034       weighted    0.999799       weighted    0.999509\n",
      "\n",
      "[234 rows x 5 columns]\n"
     ]
    }
   ],
   "source": [
    "\n",
    "# Merge the DataFrames on the \"Subject\" column using an outer op.join\n",
    "combined_df = pd.merge(f1_df, f1_dildf, on=\"subject\", how=\"outer\")\n",
    "\n",
    "# Print the combined DataFrame to ensure it is correct\n",
    "print(combined_df)"
   ]
  },
  {
   "cell_type": "code",
   "execution_count": 45,
   "metadata": {},
   "outputs": [
    {
     "name": "stdout",
     "output_type": "stream",
     "text": [
      "   Subject Average Type  F1 Scoree\n",
      "0   HIP001       binary   0.150838\n",
      "1   HIP002       binary   0.105263\n",
      "2   HIP003       binary   0.187328\n",
      "3   HIP004       binary   0.096591\n",
      "4   HIP005       binary   0.129944\n",
      "..     ...          ...        ...\n",
      "73  HIP027     weighted   0.999515\n",
      "74  HIP030     weighted   0.999489\n",
      "75  HIP031     weighted   0.999465\n",
      "76  HIP033     weighted   0.999501\n",
      "77  HIP034     weighted   0.999509\n",
      "\n",
      "[78 rows x 3 columns]\n"
     ]
    }
   ],
   "source": [
    "\n",
    "print(f1_df)"
   ]
  },
  {
   "cell_type": "code",
   "execution_count": 64,
   "metadata": {},
   "outputs": [
    {
     "data": {
      "image/png": "[encoded data removed]",
      "text/plain": [
       "<Figure size 1200x600 with 1 Axes>"
      ]
     },
     "metadata": {},
     "output_type": "display_data"
    }
   ],
   "source": [
    "# Initialize the matplotlib figure\n",
    "plt.figure(figsize=(12, 6))\n",
    "\n",
    "# Plot the F1 scores with hue for average type\n",
    "sns.barplot(\n",
    "    x=\"Subject\",\n",
    "    y=\"F1 Score\",\n",
    "    hue=\"Average Type\",\n",
    "    data=f1_df,\n",
    "    alpha=0.6,\n",
    ")\n",
    "\n",
    "# Add a legend and informative axis labels\n",
    "plt.legend(ncol=1, loc=\"upper right\", frameon=True, title=\"Average Type\")\n",
    "plt.ylabel(\"F1 Score\")\n",
    "plt.xlabel(\"Subject\")\n",
    "plt.title(\"F1 Score by Subject and Averaging Type\")\n",
    "\n",
    "# Set y-axis limits\n",
    "plt.ylim(0, 1.2)\n",
    "\n",
    "# Add horizontal lines at y = 0.75 with a label\n",
    "plt.axhline(y=0.75, color=\"red\", linestyle=\"--\")\n",
    "plt.text(-0.5, 0.77, \"Baseline Score\", color=\"red\", fontsize=12, va=\"bottom\")\n",
    "\n",
    "# Rotate the x labels for better readability\n",
    "plt.xticks(rotation=90)\n",
    "\n",
    "# Show the plot\n",
    "plt.tight_layout()\n",
    "plt.show()"
   ]
  }
 ],
 "metadata": {
  "kernelspec": {
   "display_name": ".venv",
   "language": "python",
   "name": "python3"
  },
  "language_info": {
   "codemirror_mode": {
    "name": "ipython",
    "version": 3
   },
   "file_extension": ".py",
   "mimetype": "text/x-python",
   "name": "python",
   "nbconvert_exporter": "python",
   "pygments_lexer": "ipython3",
   "version": "3.12.2"
  }
 },
 "nbformat": 4,
 "nbformat_minor": 2
}
