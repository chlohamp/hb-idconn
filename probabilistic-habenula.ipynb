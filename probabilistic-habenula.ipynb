{
 "cells": [
  {
   "cell_type": "code",
   "execution_count": null,
   "id": "d6e86ebf",
   "metadata": {},
   "outputs": [],
   "source": [
    "import numpy as np\n",
    "import nibabel as nib\n",
    "import os\n",
    "from nilearn import plotting\n",
    "from scipy.ndimage import binary_dilation\n",
    "from os.path import join\n",
    "from glob import glob\n",
    "\n",
    "import matplotlib.pyplot as plt"
   ]
  },
  {
   "cell_type": "code",
   "execution_count": null,
   "id": "020bcd5c",
   "metadata": {},
   "outputs": [],
   "source": [
    "roi_dir = \"./data\"\n",
    "out_dir = \"./derivatives\"\n",
    "aub_dir = join(roi_dir, \"aub\")\n",
    "hcp_dir = join(roi_dir, \"hcp\")"
   ]
  },
  {
   "cell_type": "code",
   "execution_count": null,
   "id": "82207113",
   "metadata": {},
   "outputs": [],
   "source": [
    "avg_dir = join(out_dir, \"avg-masks\")\n",
    "os.makedirs(avg_dir, exist_ok=True)"
   ]
  },
  {
   "cell_type": "markdown",
   "id": "46f66532",
   "metadata": {},
   "source": [
    "## Auburn Dataset\n",
    "Let's load all hand drawn 7T Auburn Habenula masks"
   ]
  },
  {
   "cell_type": "code",
   "execution_count": null,
   "id": "002b9b0c",
   "metadata": {},
   "outputs": [],
   "source": [
    "aub_rois = glob(f\"{aub_dir}/HIP*.nii.gz\", recursive=False)"
   ]
  },
  {
   "cell_type": "markdown",
   "id": "d0689755",
   "metadata": {},
   "source": [
    "### Create Auburn masks"
   ]
  },
  {
   "cell_type": "code",
   "execution_count": null,
   "id": "651b23e7",
   "metadata": {},
   "outputs": [],
   "source": [
    "hb_sum = np.zeros_like(nib.load(aub_rois[0]).get_fdata())\n",
    "for roi in aub_rois:\n",
    "    roi_arr = nib.load(roi).get_fdata()\n",
    "    # roi_arr = binary_dilation(roi_arr)\n",
    "    hb_sum += roi_arr\n",
    "hb_avg = hb_sum / float(len(aub_rois))\n",
    "\n",
    "hb_nii = nib.Nifti2Image(hb_sum, nib.load(aub_rois[0]).affine)\n",
    "hb_avg_nii = nib.Nifti2Image(hb_avg, nib.load(aub_rois[0]).affine)\n",
    "hb_nii.to_filename(join(avg_dir, \"aub_hb_sum.nii.gz\"))\n",
    "hb_avg_nii.to_filename(join(avg_dir, \"aub_hb_avg.nii.gz\"))"
   ]
  },
  {
   "cell_type": "markdown",
   "id": "a77e046c",
   "metadata": {},
   "source": [
    "### Create dilated Auburn masks"
   ]
  },
  {
   "cell_type": "code",
   "execution_count": null,
   "id": "09955e66",
   "metadata": {},
   "outputs": [],
   "source": [
    "hb_sum = np.zeros_like(nib.load(aub_rois[0]).get_fdata())\n",
    "for roi in aub_rois:\n",
    "    roi_arr = nib.load(roi).get_fdata()\n",
    "    roi_arr = binary_dilation(roi_arr)\n",
    "    hb_sum += roi_arr\n",
    "hb_avg = hb_sum / float(len(aub_rois))\n",
    "\n",
    "hb_nii = nib.Nifti2Image(hb_sum, nib.load(aub_rois[0]).affine)\n",
    "hb_avg_nii = nib.Nifti2Image(hb_avg, nib.load(aub_rois[0]).affine)\n",
    "hb_nii.to_filename(join(avg_dir, \"aub_dil-hb_sum.nii.gz\"))\n",
    "hb_avg_nii.to_filename(join(avg_dir, \"aub_dil-hb_avg.nii.gz\"))"
   ]
  },
  {
   "cell_type": "code",
   "execution_count": null,
   "id": "c0985491",
   "metadata": {},
   "outputs": [],
   "source": [
    "template = load_mni152_template(resolution=1)\n",
    "\n",
    "hcp_rois = glob(f\"{hcp_dir}/*kb.nii.gz\", recursive=False)"
   ]
  },
  {
   "cell_type": "markdown",
   "id": "e32af2cf",
   "metadata": {},
   "source": [
    "## HCP Dataset \n",
    "Let's load all hand drawn 7T Habenula Masks"
   ]
  },
  {
   "cell_type": "code",
   "execution_count": null,
   "id": "00a7ae57",
   "metadata": {},
   "outputs": [],
   "source": [
    "hcp_rois = glob(f\"{hcp_dir}/*kb.nii.gz\", recursive=False)"
   ]
  },
  {
   "cell_type": "markdown",
   "id": "7abb97f6",
   "metadata": {},
   "source": [
    "Resample the HCP masks to be in same space as Auburn"
   ]
  },
  {
   "cell_type": "code",
   "execution_count": null,
   "id": "7e1a1139",
   "metadata": {},
   "outputs": [],
   "source": [
    "hcp_rois = hcp_rois = glob(f\"{hcp_dir}/*kb.nii.gz\", recursive=False)\n",
    "subjects = [os.path.basename(f).split(\"-\")[0] for f in hcp_rois]\n",
    "template = join(avg_dir, \"aub_hb_avg.nii.gz\")\n",
    "resample_dir = join(roi_dir, \"hcp-resampled\")\n",
    "\n",
    "for subject in subjects:\n",
    "    roi = f\"{hcp_dir}/{subject}-hb-kb.nii.gz\"\n",
    "    resamp_hcp = f\"{resample_dir}/{subject}_hb-resampled.nii.gz\"\n",
    "\n",
    "    convert = f\"3dresample -master {template} -prefix {resamp_hcp} -input {roi}\"\n",
    "    print(convert)\n",
    "    os.system(convert)\n",
    "\n",
    "    roi_img = nib.load(resamp_hcp)\n",
    "    roi_data = roi_img.get_fdata()\n",
    "    print(f\"{roi}: {roi_data.shape}\")"
   ]
  },
  {
   "cell_type": "markdown",
   "id": "94af7585",
   "metadata": {},
   "source": [
    "Use the resampled masks to create an average and sum HCP mask"
   ]
  },
  {
   "cell_type": "code",
   "execution_count": 56,
   "id": "2e645b0b",
   "metadata": {},
   "outputs": [
    {
     "name": "stdout",
     "output_type": "stream",
     "text": [
      "['/Users/chloehampson/Desktop/projects/hb-idconn/data/hcp-resampled/164636_hb-resampled.nii.gz', '/Users/chloehampson/Desktop/projects/hb-idconn/data/hcp-resampled/115825_hb-resampled.nii.gz', '/Users/chloehampson/Desktop/projects/hb-idconn/data/hcp-resampled/581450_hb-resampled.nii.gz', '/Users/chloehampson/Desktop/projects/hb-idconn/data/hcp-resampled/111514_hb-resampled.nii.gz', '/Users/chloehampson/Desktop/projects/hb-idconn/data/hcp-resampled/150423_hb-resampled.nii.gz', '/Users/chloehampson/Desktop/projects/hb-idconn/data/hcp-resampled/826353_hb-resampled.nii.gz', '/Users/chloehampson/Desktop/projects/hb-idconn/data/hcp-resampled/901442_hb-resampled.nii.gz', '/Users/chloehampson/Desktop/projects/hb-idconn/data/hcp-resampled/146735_hb-resampled.nii.gz', '/Users/chloehampson/Desktop/projects/hb-idconn/data/hcp-resampled/156436_hb-resampled.nii.gz', '/Users/chloehampson/Desktop/projects/hb-idconn/data/hcp-resampled/105923_hb-resampled.nii.gz', '/Users/chloehampson/Desktop/projects/hb-idconn/data/hcp-resampled/771354_hb-resampled.nii.gz', '/Users/chloehampson/Desktop/projects/hb-idconn/data/hcp-resampled/572045_hb-resampled.nii.gz', '/Users/chloehampson/Desktop/projects/hb-idconn/data/hcp-resampled/757764_hb-resampled.nii.gz', '/Users/chloehampson/Desktop/projects/hb-idconn/data/hcp-resampled/562345_hb-resampled.nii.gz', '/Users/chloehampson/Desktop/projects/hb-idconn/data/hcp-resampled/126426_hb-resampled.nii.gz', '/Users/chloehampson/Desktop/projects/hb-idconn/data/hcp-resampled/550439_hb-resampled.nii.gz', '/Users/chloehampson/Desktop/projects/hb-idconn/data/hcp-resampled/131722_hb-resampled.nii.gz', '/Users/chloehampson/Desktop/projects/hb-idconn/data/hcp-resampled/942658_hb-resampled.nii.gz', '/Users/chloehampson/Desktop/projects/hb-idconn/data/hcp-resampled/872764_hb-resampled.nii.gz', '/Users/chloehampson/Desktop/projects/hb-idconn/data/hcp-resampled/971160_hb-resampled.nii.gz', '/Users/chloehampson/Desktop/projects/hb-idconn/data/hcp-resampled/118225_hb-resampled.nii.gz', '/Users/chloehampson/Desktop/projects/hb-idconn/data/hcp-resampled/871762_hb-resampled.nii.gz', '/Users/chloehampson/Desktop/projects/hb-idconn/data/hcp-resampled/901139_hb-resampled.nii.gz', '/Users/chloehampson/Desktop/projects/hb-idconn/data/hcp-resampled/680957_hb-resampled.nii.gz', '/Users/chloehampson/Desktop/projects/hb-idconn/data/hcp-resampled/547046_hb-resampled.nii.gz', '/Users/chloehampson/Desktop/projects/hb-idconn/data/hcp-resampled/745555_hb-resampled.nii.gz', '/Users/chloehampson/Desktop/projects/hb-idconn/data/hcp-resampled/926862_hb-resampled.nii.gz', '/Users/chloehampson/Desktop/projects/hb-idconn/data/hcp-resampled/131217_hb-resampled.nii.gz', '/Users/chloehampson/Desktop/projects/hb-idconn/data/hcp-resampled/573249_hb-resampled.nii.gz', '/Users/chloehampson/Desktop/projects/hb-idconn/data/hcp-resampled/108323_hb-resampled.nii.gz', '/Users/chloehampson/Desktop/projects/hb-idconn/data/hcp-resampled/114823_hb-resampled.nii.gz', '/Users/chloehampson/Desktop/projects/hb-idconn/data/hcp-resampled/135124_hb-resampled.nii.gz', '/Users/chloehampson/Desktop/projects/hb-idconn/data/hcp-resampled/102816_hb-resampled.nii.gz', '/Users/chloehampson/Desktop/projects/hb-idconn/data/hcp-resampled/167036_hb-resampled.nii.gz', '/Users/chloehampson/Desktop/projects/hb-idconn/data/hcp-resampled/927359_hb-resampled.nii.gz', '/Users/chloehampson/Desktop/projects/hb-idconn/data/hcp-resampled/169343_hb-resampled.nii.gz', '/Users/chloehampson/Desktop/projects/hb-idconn/data/hcp-resampled/467351_hb-resampled.nii.gz', '/Users/chloehampson/Desktop/projects/hb-idconn/data/hcp-resampled/146129_hb-resampled.nii.gz', '/Users/chloehampson/Desktop/projects/hb-idconn/data/hcp-resampled/899885_hb-resampled.nii.gz', '/Users/chloehampson/Desktop/projects/hb-idconn/data/hcp-resampled/100610_hb-resampled.nii.gz', '/Users/chloehampson/Desktop/projects/hb-idconn/data/hcp-resampled/770352_hb-resampled.nii.gz', '/Users/chloehampson/Desktop/projects/hb-idconn/data/hcp-resampled/159239_hb-resampled.nii.gz', '/Users/chloehampson/Desktop/projects/hb-idconn/data/hcp-resampled/878776_hb-resampled.nii.gz', '/Users/chloehampson/Desktop/projects/hb-idconn/data/hcp-resampled/104416_hb-resampled.nii.gz', '/Users/chloehampson/Desktop/projects/hb-idconn/data/hcp-resampled/833249_hb-resampled.nii.gz', '/Users/chloehampson/Desktop/projects/hb-idconn/data/hcp-resampled/148133_hb-resampled.nii.gz', '/Users/chloehampson/Desktop/projects/hb-idconn/data/hcp-resampled/109123_hb-resampled.nii.gz', '/Users/chloehampson/Desktop/projects/hb-idconn/data/hcp-resampled/724446_hb-resampled.nii.gz', '/Users/chloehampson/Desktop/projects/hb-idconn/data/hcp-resampled/859671_hb-resampled.nii.gz', '/Users/chloehampson/Desktop/projects/hb-idconn/data/hcp-resampled/146937_hb-resampled.nii.gz', '/Users/chloehampson/Desktop/projects/hb-idconn/data/hcp-resampled/525541_hb-resampled.nii.gz', '/Users/chloehampson/Desktop/projects/hb-idconn/data/hcp-resampled/137128_hb-resampled.nii.gz', '/Users/chloehampson/Desktop/projects/hb-idconn/data/hcp-resampled/783462_hb-resampled.nii.gz', '/Users/chloehampson/Desktop/projects/hb-idconn/data/hcp-resampled/158035_hb-resampled.nii.gz', '/Users/chloehampson/Desktop/projects/hb-idconn/data/hcp-resampled/644246_hb-resampled.nii.gz', '/Users/chloehampson/Desktop/projects/hb-idconn/data/hcp-resampled/157336_hb-resampled.nii.gz', '/Users/chloehampson/Desktop/projects/hb-idconn/data/hcp-resampled/146432_hb-resampled.nii.gz', '/Users/chloehampson/Desktop/projects/hb-idconn/data/hcp-resampled/617748_hb-resampled.nii.gz', '/Users/chloehampson/Desktop/projects/hb-idconn/data/hcp-resampled/943862_hb-resampled.nii.gz', '/Users/chloehampson/Desktop/projects/hb-idconn/data/hcp-resampled/162935_hb-resampled.nii.gz', '/Users/chloehampson/Desktop/projects/hb-idconn/data/hcp-resampled/751550_hb-resampled.nii.gz', '/Users/chloehampson/Desktop/projects/hb-idconn/data/hcp-resampled/782561_hb-resampled.nii.gz', '/Users/chloehampson/Desktop/projects/hb-idconn/data/hcp-resampled/878877_hb-resampled.nii.gz', '/Users/chloehampson/Desktop/projects/hb-idconn/data/hcp-resampled/463040_hb-resampled.nii.gz', '/Users/chloehampson/Desktop/projects/hb-idconn/data/hcp-resampled/825048_hb-resampled.nii.gz', '/Users/chloehampson/Desktop/projects/hb-idconn/data/hcp-resampled/155938_hb-resampled.nii.gz', '/Users/chloehampson/Desktop/projects/hb-idconn/data/hcp-resampled/706040_hb-resampled.nii.gz', '/Users/chloehampson/Desktop/projects/hb-idconn/data/hcp-resampled/140117_hb-resampled.nii.gz', '/Users/chloehampson/Desktop/projects/hb-idconn/data/hcp-resampled/125525_hb-resampled.nii.gz', '/Users/chloehampson/Desktop/projects/hb-idconn/data/hcp-resampled/690152_hb-resampled.nii.gz', '/Users/chloehampson/Desktop/projects/hb-idconn/data/hcp-resampled/128935_hb-resampled.nii.gz', '/Users/chloehampson/Desktop/projects/hb-idconn/data/hcp-resampled/126931_hb-resampled.nii.gz', '/Users/chloehampson/Desktop/projects/hb-idconn/data/hcp-resampled/654552_hb-resampled.nii.gz', '/Users/chloehampson/Desktop/projects/hb-idconn/data/hcp-resampled/910241_hb-resampled.nii.gz', '/Users/chloehampson/Desktop/projects/hb-idconn/data/hcp-resampled/898176_hb-resampled.nii.gz', '/Users/chloehampson/Desktop/projects/hb-idconn/data/hcp-resampled/16744_hb-resampled.nii.gz', '/Users/chloehampson/Desktop/projects/hb-idconn/data/hcp-resampled/958976_hb-resampled.nii.gz', '/Users/chloehampson/Desktop/projects/hb-idconn/data/hcp-resampled/601127_hb-resampled.nii.gz', '/Users/chloehampson/Desktop/projects/hb-idconn/data/hcp-resampled/818859_hb-resampled.nii.gz', '/Users/chloehampson/Desktop/projects/hb-idconn/data/hcp-resampled/130518_hb-resampled.nii.gz', '/Users/chloehampson/Desktop/projects/hb-idconn/data/hcp-resampled/134829_hb-resampled.nii.gz', '/Users/chloehampson/Desktop/projects/hb-idconn/data/hcp-resampled/995174_hb-resampled.nii.gz', '/Users/chloehampson/Desktop/projects/hb-idconn/data/hcp-resampled/905147_hb-resampled.nii.gz', '/Users/chloehampson/Desktop/projects/hb-idconn/data/hcp-resampled/144226_hb-resampled.nii.gz', '/Users/chloehampson/Desktop/projects/hb-idconn/data/hcp-resampled/134627_hb-resampled.nii.gz', '/Users/chloehampson/Desktop/projects/hb-idconn/data/hcp-resampled/145834_hb-resampled.nii.gz', '/Users/chloehampson/Desktop/projects/hb-idconn/data/hcp-resampled/789373_hb-resampled.nii.gz', '/Users/chloehampson/Desktop/projects/hb-idconn/data/hcp-resampled/116726_hb-resampled.nii.gz', '/Users/chloehampson/Desktop/projects/hb-idconn/data/hcp-resampled/102311_hb-resampled.nii.gz', '/Users/chloehampson/Desktop/projects/hb-idconn/data/hcp-resampled/725751_hb-resampled.nii.gz', '/Users/chloehampson/Desktop/projects/hb-idconn/data/hcp-resampled/627549_hb-resampled.nii.gz', '/Users/chloehampson/Desktop/projects/hb-idconn/data/hcp-resampled/765864_hb-resampled.nii.gz', '/Users/chloehampson/Desktop/projects/hb-idconn/data/hcp-resampled/132118_hb-resampled.nii.gz', '/Users/chloehampson/Desktop/projects/hb-idconn/data/hcp-resampled/671855_hb-resampled.nii.gz', '/Users/chloehampson/Desktop/projects/hb-idconn/data/hcp-resampled/164131_hb-resampled.nii.gz', '/Users/chloehampson/Desktop/projects/hb-idconn/data/hcp-resampled/966975_hb-resampled.nii.gz', '/Users/chloehampson/Desktop/projects/hb-idconn/data/hcp-resampled/541943_hb-resampled.nii.gz', '/Users/chloehampson/Desktop/projects/hb-idconn/data/hcp-resampled/130114_hb-resampled.nii.gz', '/Users/chloehampson/Desktop/projects/hb-idconn/data/hcp-resampled/156334_hb-resampled.nii.gz', '/Users/chloehampson/Desktop/projects/hb-idconn/data/hcp-resampled/951457_hb-resampled.nii.gz', '/Users/chloehampson/Desktop/projects/hb-idconn/data/hcp-resampled/814649_hb-resampled.nii.gz', '/Users/chloehampson/Desktop/projects/hb-idconn/data/hcp-resampled/638049_hb-resampled.nii.gz', '/Users/chloehampson/Desktop/projects/hb-idconn/data/hcp-resampled/169040_hb-resampled.nii.gz', '/Users/chloehampson/Desktop/projects/hb-idconn/data/hcp-resampled/158136_hb-resampled.nii.gz', '/Users/chloehampson/Desktop/projects/hb-idconn/data/hcp-resampled/115017_hb-resampled.nii.gz', '/Users/chloehampson/Desktop/projects/hb-idconn/data/hcp-resampled/861456_hb-resampled.nii.gz', '/Users/chloehampson/Desktop/projects/hb-idconn/data/hcp-resampled/732243_hb-resampled.nii.gz']\n"
     ]
    }
   ],
   "source": [
    "hcp_rois = glob(f\"{resample_dir}/*resampled.nii.gz\", recursive=False)\n",
    "print(hcp_rois)\n",
    "\n",
    "hb_sum = np.zeros_like(nib.load(hcp_rois[0]).get_fdata())\n",
    "for roi in hcp_rois:\n",
    "    roi_arr = nib.load(roi).get_fdata()\n",
    "    # roi_arr = binary_dilation(roi_arr)\n",
    "    hb_sum += roi_arr\n",
    "hb_avg = hb_sum / float(len(hcp_rois))\n",
    "\n",
    "hb_nii = nib.Nifti2Image(hb_sum, nib.load(hcp_rois[0]).affine)\n",
    "hb_avg_nii = nib.Nifti2Image(hb_avg, nib.load(hcp_rois[0]).affine)\n",
    "hb_nii.to_filename(join(avg_dir, \"hcp_hb_sum_resample.nii.gz\"))\n",
    "hb_avg_nii.to_filename(join(avg_dir, \"hcp_hb_avg_resample.nii.gz\"))"
   ]
  },
  {
   "cell_type": "markdown",
   "id": "63ee71c4",
   "metadata": {},
   "source": [
    "## RSFC\n",
    "Katie plotting of the rsfc using masks"
   ]
  },
  {
   "cell_type": "code",
   "execution_count": null,
   "id": "3fcdf872",
   "metadata": {},
   "outputs": [],
   "source": [
    "h = plotting.plot_roi(\n",
    "    hb_avg_nii, draw_cross=False, display_mode=\"y\", cmap=\"inferno\", vmax=0.6\n",
    ")\n",
    "h.savefig(\"hb_mean.png\", dpi=600)"
   ]
  },
  {
   "cell_type": "code",
   "execution_count": null,
   "id": "cab16296",
   "metadata": {},
   "outputs": [],
   "source": [
    "import seaborn as sns"
   ]
  },
  {
   "cell_type": "code",
   "execution_count": null,
   "id": "6d7af25d",
   "metadata": {},
   "outputs": [],
   "source": [
    "sns.histplot(hb_avg[hb_avg > 0])"
   ]
  },
  {
   "cell_type": "code",
   "execution_count": null,
   "id": "ff07bd12",
   "metadata": {},
   "outputs": [],
   "source": [
    "hcp_t = \"/Users/katherine.b/Dropbox/Projects/habenula/resting-state/habenula-rsfc-randomise/hcp7t/hcp_96_subj-2019-04-30_sm-0.0mm_tstat1.nii.gz\"\n",
    "auburn_t = \"/Users/katherine.b/Dropbox/Projects/habenula/resting-state/habenula-rsfc-randomise/nov20-nilearn_plus_randomise/au_5mm_tstat1.nii.gz\"\n",
    "colin = \"/Users/katherine.b/Dropbox/Data/templates/Colin27_T1_seg_MNI-152.nii.gz\""
   ]
  },
  {
   "cell_type": "code",
   "execution_count": null,
   "id": "ac12eea3",
   "metadata": {},
   "outputs": [],
   "source": [
    "from nilearn import datasets\n",
    "\n",
    "fsaverage = datasets.fetch_surf_fsaverage()"
   ]
  },
  {
   "cell_type": "code",
   "execution_count": null,
   "id": "fcdd556b",
   "metadata": {},
   "outputs": [],
   "source": [
    "cut_z = [-47, -33, -19, 0, 17, 36, 49]\n",
    "cut_x = [45, 35, 8, 0, -8, -20, -33, -54]"
   ]
  },
  {
   "cell_type": "code",
   "execution_count": null,
   "id": "7944de18",
   "metadata": {},
   "outputs": [],
   "source": [
    "fig, ax = plt.subplots(nrows=2, figsize=(20, 7))\n",
    "\n",
    "g = plotting.plot_stat_map(\n",
    "    auburn_t, threshold=4, display_mode=\"x\", cut_coords=cut_x, axes=ax[0]\n",
    ")\n",
    "h = plotting.plot_stat_map(\n",
    "    auburn_t, threshold=4, display_mode=\"z\", cut_coords=cut_z, axes=ax[1]\n",
    ")\n",
    "fig.savefig(\n",
    "    \"/Users/katherine.b/Dropbox/Projects/habenula/figures/auburn_randomise_5mm_t>4-slices.png\",\n",
    "    dpi=600,\n",
    ")"
   ]
  },
  {
   "cell_type": "code",
   "execution_count": null,
   "id": "03355817",
   "metadata": {},
   "outputs": [],
   "source": [
    "h = plotting.plot_stat_map(hcp_t, threshold=9)\n",
    "h.savefig(\n",
    "    \"/Users/katherine.b/Dropbox/Projects/habenula/figures/hcp_randomise_0mm_t>9-ortho.png\",\n",
    "    dpi=600,\n",
    ")"
   ]
  },
  {
   "cell_type": "code",
   "execution_count": null,
   "id": "64a37b71",
   "metadata": {},
   "outputs": [],
   "source": [
    "plotting.plot_img_on_surf(\n",
    "    auburn_t,\n",
    "    threshold=4,\n",
    "    output_file=\"/Users/katherine.b/Dropbox/Projects/habenula/figures/auburn_randomise_5mm_t>4-suface.png\",\n",
    ")"
   ]
  },
  {
   "cell_type": "code",
   "execution_count": null,
   "id": "07d4f274",
   "metadata": {},
   "outputs": [],
   "source": [
    "fig, ax = plt.subplots(nrows=2, figsize=(20, 7))\n",
    "\n",
    "g = plotting.plot_stat_map(\n",
    "    hcp_t, threshold=9, display_mode=\"x\", cut_coords=cut_x, axes=ax[0]\n",
    ")\n",
    "h = plotting.plot_stat_map(\n",
    "    hcp_t, threshold=9, display_mode=\"z\", cut_coords=cut_z, axes=ax[1]\n",
    ")\n",
    "fig.savefig(\n",
    "    \"/Users/katherine.b/Dropbox/Projects/habenula/figures/hcp_randomise_0mm_t>4-slices.png\",\n",
    "    dpi=600,\n",
    ")"
   ]
  },
  {
   "cell_type": "code",
   "execution_count": null,
   "id": "c8cd95be",
   "metadata": {},
   "outputs": [],
   "source": [
    "plotting.plot_img_on_surf(\n",
    "    hcp_t,\n",
    "    threshold=9,\n",
    "    output_file=\"/Users/katherine.b/Dropbox/Projects/habenula/figures/hcp_randomise_0mm_t>9-suface.png\",\n",
    ")"
   ]
  }
 ],
 "metadata": {
  "kernelspec": {
   "display_name": "Python 3 (ipykernel)",
   "language": "python",
   "name": "python3"
  },
  "language_info": {
   "codemirror_mode": {
    "name": "ipython",
    "version": 3
   },
   "file_extension": ".py",
   "mimetype": "text/x-python",
   "name": "python",
   "nbconvert_exporter": "python",
   "pygments_lexer": "ipython3",
   "version": "3.12.2"
  }
 },
 "nbformat": 4,
 "nbformat_minor": 5
}
